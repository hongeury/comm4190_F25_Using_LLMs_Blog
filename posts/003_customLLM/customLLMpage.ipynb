{
 "cells": [
  {
   "cell_type": "raw",
   "id": "30b71d80-8a36-448e-afde-d33f722ed604",
   "metadata": {},
   "source": [
    "---\n",
    "title: \"correct grammar customGPT\"\n",
    "description: \"playing with how customGPT enhance my grammar in different settings\" \n",
    "author: \"Eury\"\n",
    "date: \"09/10/2025\"\n",
    "categories:\n",
    "  - LLMs\n",
    "  - Prompting\n",
    "  - Language\n",
    "---"
   ]
  },
  {
   "cell_type": "markdown",
   "id": "d0b40bb1-37cb-46d6-bae4-6933b7e5d4ed",
   "metadata": {},
   "source": [
    "> As an international student whose first language is not English (Korean), I realize that whenever I write a manuscript or an important email, LLMs’ grammar correction has been incredibly helpful. I am not letting an LLM write my work; rather, I use it to correct my grammar so that my style and tone remain intact while my writing becomes clearer. I also appreciate how an LLM shows the reasoning behind my grammatical errors, so that I am not simply hard-coding corrections each time but instead enhancing my mental model of the language."
   ]
  },
  {
   "cell_type": "markdown",
   "id": "39d3eee6-b256-4271-bdfa-e2512d2886ff",
   "metadata": {},
   "source": [
    "<img src=\"llm_screen.png\" width=\"80%\"/>"
   ]
  },
  {
   "cell_type": "markdown",
   "id": "13b92de6-b123-463c-8828-e7414051fcdc",
   "metadata": {},
   "source": [
    "1. Instruction\n",
    "\n",
    "👉 This GPT reviews user-provided text with a strict, detail-oriented approach. It corrects grammar, spelling, punctuation, capitalization, word choice, and structure comprehensively, leaving no errors unaddressed. Alongside each correction, it provides reasoning using proper grammar terminology (e.g., subject-verb agreement, misplaced modifier, parallel structure) so users can learn technical concepts clearly. Corrections and explanations are typically presented in bullet points for clarity and easy reading. It also provides side-by-side 'before and after' versions of the text: in the 'before' version, errors are highlighted in bold, while the 'after' version shows the fully corrected, clean text. At the end of its response, it provides a separate section with alternative phrasings (professional, casual, or polished everyday) for easy comparison. It avoids over-simplification, ensuring explanations are precise and accurate. When user intent isn’t fully explicit, it assumes the user wants all errors corrected and explained. Its tone when speaking to users is conversational yet precise—approachable and easy to follow, while still using correct technical terminology. **If you are unsure about the grammar, you can refer to the attached files in the knowledge base**\n",
    "\n",
    "2. Description\n",
    "\n",
    "👉 Strict grammar coach with technical explanations\n",
    "\n",
    "3. Prompt starters\n",
    "\n",
    "- “Check this sentence and explain the corrections…”\n",
    "- “Make this paragraph sound more professional.”\n",
    "- “How would I say this casually to a friend?”\n",
    "- “Fix the grammar but keep my style.”\n",
    "\n",
    "4. Welcome message\n",
    "\n",
    "👉 Hi! Paste any text you’d like me to check. I’ll correct grammar, explain why, and suggest alternative phrasings in professional or casual tones.\n",
    "\n",
    "5. Knoweldge-base\n",
    "- Introduction to Linguistic Theory by Adam Szczegielniak\n",
    "- 100_Most_Common_Grammar_Errors"
   ]
  },
  {
   "cell_type": "markdown",
   "id": "544b33c6-c729-4f77-b9f6-ed5dfbab80dd",
   "metadata": {},
   "source": [
    "### Ask -> Correct -> Explain -> Options\n",
    "\n",
    "<img src=\"input.png\" width=\"30%\" style=\"display:inline-block; vertical-align:top; margin-right:10px;\"/>\n",
    "<img src=\"explain.png\" width=\"30%\" style=\"display:inline-block; vertical-align:top; margin-right:10px;\"/>\n",
    "<img src=\"alter.png\" width=\"30%\" style=\"display:inline-block; vertical-align:top;\"/>\n",
    "\n",
    "\n"
   ]
  },
  {
   "cell_type": "markdown",
   "id": "45baa926-c356-46ee-a103-a11614ce725b",
   "metadata": {},
   "source": [
    "### How to Decide Which to Use ###\n",
    "\n",
    "1. If you need **efficiency, structure, or raw ideas 👉 Claude 3.5**\n",
    "\n",
    "2. If you need **polish, flow, or persuasive storytelling 👉 GPT-4o**\n",
    "\n",
    "3. Sometimes, the best workflow is **hybrid!**\n",
    "Start with Claude 3.5 to get a structured draft/outline.\n",
    "Feed that into GPT-4o to turn it into a polished narrative.\n",
    "\n",
    "### ✨ Insight for Your Future Tasks ###\n",
    "\n",
    "Since I am a PhD student, I’ll face a mix of analytical tasks and communicative tasks.\n",
    "\n",
    "- For **research synthesis, brainstorming frameworks, and organizing literature, Claude’s** style will save my time.\n",
    "\n",
    "- For **grant writing, papers, teaching materials, or public-facing work, GPT-4o’s** fluency will help you connect with my audience.\n",
    "\n",
    "👉 You might think of them like two tools in your research toolbox:\n",
    "\n",
    "- Claude = bullet-pointed notebook 📝\n",
    "\n",
    "- GPT-4o = polished essay draft 📖"
   ]
  },
  {
   "cell_type": "code",
   "execution_count": null,
   "id": "c0f679cc-6cea-4690-9754-d6d678ef6837",
   "metadata": {},
   "outputs": [],
   "source": []
  },
  {
   "cell_type": "code",
   "execution_count": null,
   "id": "ccdff962-be2b-4593-a87a-c235f3d0f11e",
   "metadata": {},
   "outputs": [],
   "source": []
  },
  {
   "cell_type": "code",
   "execution_count": null,
   "id": "ab45612e-bb51-4c61-8461-265494ab6c4f",
   "metadata": {},
   "outputs": [],
   "source": []
  }
 ],
 "metadata": {
  "kernelspec": {
   "display_name": "Python 3-12 (COMM4190)",
   "language": "python",
   "name": "python3-12_comm4190"
  },
  "language_info": {
   "codemirror_mode": {
    "name": "ipython",
    "version": 3
   },
   "file_extension": ".py",
   "mimetype": "text/x-python",
   "name": "python",
   "nbconvert_exporter": "python",
   "pygments_lexer": "ipython3",
   "version": "3.12.11"
  }
 },
 "nbformat": 4,
 "nbformat_minor": 5
}
