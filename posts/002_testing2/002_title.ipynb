{
 "cells": [
  {
   "cell_type": "raw",
   "id": "30b71d80-8a36-448e-afde-d33f722ed604",
   "metadata": {},
   "source": [
    "---\n",
    "title: \"chat.asc.upenn.edu ver comparison\"\n",
    "description: \"comparing 3.5-haiku vs. gpt4o with the same prompt\" \n",
    "author: \"Eury\"\n",
    "date: \"09/03/2025\"\n",
    "categories:\n",
    "  - LLMs\n",
    "  - Prompting\n",
    "---"
   ]
  },
  {
   "cell_type": "markdown",
   "id": "d0b40bb1-37cb-46d6-bae4-6933b7e5d4ed",
   "metadata": {},
   "source": [
    "> I realized I am the only PhD student in this class. That motivated me to dive deeper into my PhD program at Annenberg. I tried two versions of **chat.asc.upenn.edu, which I discovered after attending Professor Matt’s AI workshop** a couple of days ago. The workshop was amazing, so I thought—why not do a little exploration of what I learned! I asked it **what the good things are about the Annenberg PhD program**. Let’s see what it gives. Also, I wasn’t familiar with the Haiku version—the name gives off more poetic vibes, so I wanted to explore whether that’s true or not. We shall see."
   ]
  },
  {
   "cell_type": "markdown",
   "id": "544b33c6-c729-4f77-b9f6-ed5dfbab80dd",
   "metadata": {},
   "source": [
    "### Prompt Generation onchat.asc.upenn.edu 3.5-haiku vs. gpt4o\n",
    "\n",
    "**1st, 2nd, 3rd tiral with the same prompt of: what is good thing about upenn annenberg phd**\n",
    "\n",
    "<img src=\"gpt1.png\" width=\"30%\" style=\"display:inline-block; vertical-align:top; margin-right:10px;\"/>\n",
    "<img src=\"gpt2.png\" width=\"30%\" style=\"display:inline-block; vertical-align:top; margin-right:10px;\"/>\n",
    "<img src=\"gpt3.png\" width=\"30%\" style=\"display:inline-block; vertical-align:top;\"/>\n",
    "\n",
    "\n"
   ]
  },
  {
   "cell_type": "markdown",
   "id": "7d6800af-4bff-4940-b36f-b780e7884da4",
   "metadata": {},
   "source": [
    "### 📊 Comparison: Claude 3.5 vs GPT-4o\n",
    "\n",
    "| Aspect | **Claude 3.5** | **GPT-4o** |\n",
    "|:-------|:---------------|:-----------|\n",
    "| **Style & Format** | Bullet-point lists with numbered categories and sub-bullets. | Narrative paragraphs with bolded section headers. |\n",
    "| **Tone** | Factual, outline-like, efficient. | Persuasive, descriptive, brochure-like. |\n",
    "| **1st trial** | Reputation, research opportunities, faculty, funding, networking, interdisciplinarity, location. | Interdisciplinary approach, renowned faculty, research, professional development, community/collaboration. |\n",
    "| **2nd trial)** | Adds **career outcomes** (tenure-track, alumni network), critical & innovative thinking, and media/tech focus. | Adds **cultural context** (Philadelphia’s diversity), collegial environment, professional development, broader academic focus areas. |\n",
    "| **3rd trial** | Strong on **funding competitiveness**, diverse faculty, interdisciplinary flexibility, professional networks. | Highlights **impactful research early**, strong funding support, networking, and collaborative community. |\n",
    "| **Strengths** | Broad coverage of practical factors (funding, alumni, career prospects). | Rich detail on student experience, academic culture, and research environment. |\n",
    "| **Overall Feel** | **Fact sheet** – compact, informative, career-oriented. | **Brochure** – polished, engaging, student-experience focused. |\n"
   ]
  },
  {
   "cell_type": "markdown",
   "id": "45baa926-c356-46ee-a103-a11614ce725b",
   "metadata": {},
   "source": [
    "### How to Decide Which to Use ###\n",
    "\n",
    "1. If you need **efficiency, structure, or raw ideas 👉 Claude 3.5**\n",
    "\n",
    "2. If you need **polish, flow, or persuasive storytelling 👉 GPT-4o**\n",
    "\n",
    "3. Sometimes, the best workflow is **hybrid!**\n",
    "Start with Claude 3.5 to get a structured draft/outline.\n",
    "Feed that into GPT-4o to turn it into a polished narrative.\n",
    "\n",
    "### ✨ Insight for Your Future Tasks ###\n",
    "\n",
    "Since I am a PhD student, I’ll face a mix of analytical tasks and communicative tasks.\n",
    "\n",
    "- For **research synthesis, brainstorming frameworks, and organizing literature, Claude’s** style will save my time.\n",
    "\n",
    "- For **grant writing, papers, teaching materials, or public-facing work, GPT-4o’s** fluency will help you connect with my audience.\n",
    "\n",
    "👉 You might think of them like two tools in your research toolbox:\n",
    "\n",
    "- Claude = bullet-pointed notebook 📝\n",
    "\n",
    "- GPT-4o = polished essay draft 📖"
   ]
  },
  {
   "cell_type": "code",
   "execution_count": null,
   "id": "c0f679cc-6cea-4690-9754-d6d678ef6837",
   "metadata": {},
   "outputs": [],
   "source": []
  },
  {
   "cell_type": "code",
   "execution_count": null,
   "id": "ccdff962-be2b-4593-a87a-c235f3d0f11e",
   "metadata": {},
   "outputs": [],
   "source": []
  },
  {
   "cell_type": "code",
   "execution_count": null,
   "id": "ab45612e-bb51-4c61-8461-265494ab6c4f",
   "metadata": {},
   "outputs": [],
   "source": []
  }
 ],
 "metadata": {
  "kernelspec": {
   "display_name": "Python 3-12 (COMM4190)",
   "language": "python",
   "name": "python3-12_comm4190"
  },
  "language_info": {
   "codemirror_mode": {
    "name": "ipython",
    "version": 3
   },
   "file_extension": ".py",
   "mimetype": "text/x-python",
   "name": "python",
   "nbconvert_exporter": "python",
   "pygments_lexer": "ipython3",
   "version": "3.12.11"
  }
 },
 "nbformat": 4,
 "nbformat_minor": 5
}
