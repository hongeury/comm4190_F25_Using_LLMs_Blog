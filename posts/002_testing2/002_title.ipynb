{
 "cells": [
  {
   "cell_type": "raw",
   "id": "30b71d80-8a36-448e-afde-d33f722ed604",
   "metadata": {},
   "source": [
    "---\n",
    "title: \"chat.asc.upenn.edu version comparison\"\n",
    "description: \"comparing 3.5-haiku vs. gpt4o with the same prompt\" \n",
    "author: \"Eury\"\n",
    "date: \"09/03/2025\"\n",
    "categories:\n",
    "  - LLMs\n",
    "  - Prompting\n",
    "---"
   ]
  },
  {
   "cell_type": "markdown",
   "id": "544b33c6-c729-4f77-b9f6-ed5dfbab80dd",
   "metadata": {},
   "source": [
    "### How do chat.asc.upenn.edu 3.5-haiku vs. gpt4o differ?\n",
    "\n",
    "**1st, 2nd, 3rd tiral with the same prompt of: what is good thing about upenn annenberg phd**\n",
    "\n",
    "<img src=\"gpt1.png\" width=\"30%\" style=\"display:inline-block; vertical-align:top; margin-right:10px;\"/>\n",
    "<img src=\"gpt2.png\" width=\"30%\" style=\"display:inline-block; vertical-align:top; margin-right:10px;\"/>\n",
    "<img src=\"gpt3.png\" width=\"30%\" style=\"display:inline-block; vertical-align:top;\"/>\n",
    "\n",
    "\n",
    "\n"
   ]
  },
  {
   "cell_type": "code",
   "execution_count": null,
   "id": "93548890-a74c-4a71-a394-46f1a81a987e",
   "metadata": {},
   "outputs": [],
   "source": []
  },
  {
   "cell_type": "code",
   "execution_count": null,
   "id": "6f9adbc1-0800-438b-b481-99a452139c43",
   "metadata": {},
   "outputs": [],
   "source": []
  }
 ],
 "metadata": {
  "kernelspec": {
   "display_name": "Python 3-12 (COMM4190)",
   "language": "python",
   "name": "python3-12_comm4190"
  },
  "language_info": {
   "codemirror_mode": {
    "name": "ipython",
    "version": 3
   },
   "file_extension": ".py",
   "mimetype": "text/x-python",
   "name": "python",
   "nbconvert_exporter": "python",
   "pygments_lexer": "ipython3",
   "version": "3.12.11"
  }
 },
 "nbformat": 4,
 "nbformat_minor": 5
}
