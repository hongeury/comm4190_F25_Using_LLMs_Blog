{
 "cells": [
  {
   "cell_type": "raw",
   "id": "30b71d80-8a36-448e-afde-d33f722ed604",
   "metadata": {},
   "source": [
    "---\n",
    "title: \"Eury's Test\"\n",
    "description: \"Testing Blogging\" \n",
    "author: \"Eury\"\n",
    "date: \"09/01/2025\"\n",
    "categories:\n",
    "  - LLMs\n",
    "  - Learning\n",
    "---"
   ]
  },
  {
   "cell_type": "markdown",
   "id": "544b33c6-c729-4f77-b9f6-ed5dfbab80dd",
   "metadata": {},
   "source": [
    "### How do chat.asc.upenn.edu 3.5-haiku vs. gpt4o differ?\n",
    "\n",
    "<img src=\"gpt1.png\" width=\"50%\"/>"
   ]
  },
  {
   "cell_type": "code",
   "execution_count": null,
   "id": "93548890-a74c-4a71-a394-46f1a81a987e",
   "metadata": {},
   "outputs": [],
   "source": []
  }
 ],
 "metadata": {
  "kernelspec": {
   "display_name": "Python 3-12 (COMM4190)",
   "language": "python",
   "name": "python3-12_comm4190"
  },
  "language_info": {
   "codemirror_mode": {
    "name": "ipython",
    "version": 3
   },
   "file_extension": ".py",
   "mimetype": "text/x-python",
   "name": "python",
   "nbconvert_exporter": "python",
   "pygments_lexer": "ipython3",
   "version": "3.12.11"
  }
 },
 "nbformat": 4,
 "nbformat_minor": 5
}
