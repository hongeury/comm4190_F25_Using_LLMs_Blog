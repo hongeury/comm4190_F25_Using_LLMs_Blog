{
 "cells": [
  {
   "cell_type": "raw",
   "id": "30b71d80-8a36-448e-afde-d33f722ed604",
   "metadata": {},
   "source": [
    "---\n",
    "title: \"chat.asc.upenn.edu version comparison\"\n",
    "description: \"comparing 3.5-haiku vs. gpt4o with the same prompt\" \n",
    "author: \"Eury\"\n",
    "date: \"09/03/2025\"\n",
    "categories:\n",
    "  - LLMs\n",
    "  - Prompting\n",
    "---"
   ]
  },
  {
   "cell_type": "raw",
   "id": "3ed322ae-bcb8-4000-bb1a-c0236362db26",
   "metadata": {},
   "source": [
    "I realized I am the only PhD student in this class.\n",
    "\n",
    "So I got "
   ]
  },
  {
   "cell_type": "markdown",
   "id": "544b33c6-c729-4f77-b9f6-ed5dfbab80dd",
   "metadata": {},
   "source": [
    "### How do chat.asc.upenn.edu 3.5-haiku vs. gpt4o differ?\n",
    "\n",
    "**1st, 2nd, 3rd tiral with the same prompt of: what is good thing about upenn annenberg phd**\n",
    "\n",
    "<img src=\"gpt1.png\" width=\"30%\" style=\"display:inline-block; vertical-align:top; margin-right:10px;\"/>\n",
    "<img src=\"gpt2.png\" width=\"30%\" style=\"display:inline-block; vertical-align:top; margin-right:10px;\"/>\n",
    "<img src=\"gpt3.png\" width=\"30%\" style=\"display:inline-block; vertical-align:top;\"/>\n",
    "\n",
    "\n"
   ]
  },
  {
   "cell_type": "markdown",
   "id": "7d6800af-4bff-4940-b36f-b780e7884da4",
   "metadata": {},
   "source": [
    "### 📊 Comparison: Claude 3.5 vs GPT-4o (UPenn Annenberg PhD Program)\n",
    "\n",
    "| Aspect | **Claude 3.5** | **GPT-4o** |\n",
    "|:-------|:---------------|:-----------|\n",
    "| **Style & Format** | Bullet-point lists with numbered categories and sub-bullets. | Narrative paragraphs with bolded section headers. |\n",
    "| **Tone** | Factual, outline-like, efficient. | Persuasive, descriptive, brochure-like. |\n",
    "| **1st trial** | Reputation, research opportunities, faculty, funding, networking, interdisciplinarity, location. | Interdisciplinary approach, renowned faculty, research, professional development, community/collaboration. |\n",
    "| **2nd trial)** | Adds **career outcomes** (tenure-track, alumni network), critical & innovative thinking, and media/tech focus. | Adds **cultural context** (Philadelphia’s diversity), collegial environment, professional development, broader academic focus areas. |\n",
    "| **3rd trial** | Strong on **funding competitiveness**, diverse faculty, interdisciplinary flexibility, professional networks. | Highlights **impactful research early**, strong funding support, networking, and collaborative community. |\n",
    "| **Strengths** | Broad coverage of practical factors (funding, alumni, career prospects). | Rich detail on student experience, academic culture, and research environment. |\n",
    "| **Overall Feel** | **Fact sheet** – compact, informative, career-oriented. | **Brochure** – polished, engaging, student-experience focused. |\n"
   ]
  },
  {
   "cell_type": "code",
   "execution_count": null,
   "id": "6f9adbc1-0800-438b-b481-99a452139c43",
   "metadata": {},
   "outputs": [],
   "source": []
  },
  {
   "cell_type": "code",
   "execution_count": null,
   "id": "c0f679cc-6cea-4690-9754-d6d678ef6837",
   "metadata": {},
   "outputs": [],
   "source": []
  }
 ],
 "metadata": {
  "kernelspec": {
   "display_name": "Python 3-12 (COMM4190)",
   "language": "python",
   "name": "python3-12_comm4190"
  },
  "language_info": {
   "codemirror_mode": {
    "name": "ipython",
    "version": 3
   },
   "file_extension": ".py",
   "mimetype": "text/x-python",
   "name": "python",
   "nbconvert_exporter": "python",
   "pygments_lexer": "ipython3",
   "version": "3.12.11"
  }
 },
 "nbformat": 4,
 "nbformat_minor": 5
}
